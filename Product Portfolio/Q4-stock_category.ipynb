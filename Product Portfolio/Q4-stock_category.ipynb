{
 "cells": [
  {
   "cell_type": "code",
   "execution_count": 1,
   "id": "c822b71e",
   "metadata": {},
   "outputs": [],
   "source": [
    "import joblib\n",
    "import matplotlib.pyplot as plt\n",
    "import numpy as np\n",
    "import os\n",
    "import pandas as pd\n",
    "import pickle\n",
    "#from mlxtend.frequent_patterns import apriori, association_rules"
   ]
  },
  {
   "cell_type": "code",
   "execution_count": 2,
   "id": "f6667861",
   "metadata": {},
   "outputs": [
    {
     "name": "stderr",
     "output_type": "stream",
     "text": [
      "/opt/anaconda3/lib/python3.8/site-packages/IPython/core/interactiveshell.py:3165: DtypeWarning: Columns (1,15,36,49,52,56,57,58,59,61,63) have mixed types.Specify dtype option on import or set low_memory=False.\n",
      "  has_raised = await self.run_ast_nodes(code_ast.body, cell_name,\n",
      "/opt/anaconda3/lib/python3.8/site-packages/IPython/core/interactiveshell.py:3165: DtypeWarning: Columns (1,15,49,52,56,59,61,63) have mixed types.Specify dtype option on import or set low_memory=False.\n",
      "  has_raised = await self.run_ast_nodes(code_ast.body, cell_name,\n"
     ]
    }
   ],
   "source": [
    "sales = pd.read_csv('Daily Wholegood Sales Master.csv')\n",
    "stock_joint = pd.read_csv('Stock-joint-table.csv')"
   ]
  },
  {
   "cell_type": "code",
   "execution_count": 3,
   "id": "c8187777",
   "metadata": {},
   "outputs": [
    {
     "name": "stdout",
     "output_type": "stream",
     "text": [
      "<class 'pandas.core.frame.DataFrame'>\n",
      "Int64Index: 40258 entries, 1 to 69548\n",
      "Data columns (total 86 columns):\n",
      " #   Column                       Non-Null Count  Dtype  \n",
      "---  ------                       --------------  -----  \n",
      " 0   X                            40258 non-null  int64  \n",
      " 1   QuoteID                      40258 non-null  object \n",
      " 2   NameOfQuote                  24152 non-null  object \n",
      " 3   QuoteType                    40258 non-null  object \n",
      " 4   CreationDate                 40258 non-null  object \n",
      " 5   ExpirationDate               40246 non-null  object \n",
      " 6   CurrentQuoteStatus           40258 non-null  object \n",
      " 7   CreatedLogon                 40258 non-null  object \n",
      " 8   LastModifiedLogon            40258 non-null  object \n",
      " 9   SalesPersonName              40257 non-null  object \n",
      " 10  CompanyName                  7432 non-null   object \n",
      " 11  ContactLastName              32345 non-null  object \n",
      " 12  ContactFirstName             32336 non-null  object \n",
      " 13  City                         37517 non-null  object \n",
      " 14  StateProvince                39077 non-null  object \n",
      " 15  PostalZip                    37516 non-null  object \n",
      " 16  Phone                        36209 non-null  object \n",
      " 17  Customer.Email               13625 non-null  object \n",
      " 18  DealerID                     40258 non-null  int64  \n",
      " 19  DealerName                   40048 non-null  object \n",
      " 20  DealerCity                   40048 non-null  object \n",
      " 21  DealerState                  40048 non-null  object \n",
      " 22  EquipmentCode                40258 non-null  int64  \n",
      " 23  EquipmentDescription         40258 non-null  object \n",
      " 24  EquipmentType                40258 non-null  object \n",
      " 25  EquipmentSerialNumber        26453 non-null  object \n",
      " 26  EquipmentQuantity            40258 non-null  int64  \n",
      " 27  EquipmentAmount              40258 non-null  object \n",
      " 28  DeereMDP                     0 non-null      float64\n",
      " 29  CPA.CA.Surcharge.            0 non-null      float64\n",
      " 30  SellingPrice                 40258 non-null  object \n",
      " 31  EquipmentManufacturer        40244 non-null  object \n",
      " 32  EquipmentCategoryDesc        38545 non-null  object \n",
      " 33  EquipmentSubCategoryDesc     38437 non-null  object \n",
      " 34  EquipmentManufactureYear     18646 non-null  float64\n",
      " 35  EquipmentModel               40254 non-null  object \n",
      " 36  StockNumber                  40258 non-null  int64  \n",
      " 37  IncentiveProgramNumber       10347 non-null  object \n",
      " 38  EquipmentStatus              40258 non-null  object \n",
      " 39  TradeInCode                  4709 non-null   float64\n",
      " 40  TradeInDescription           729 non-null    object \n",
      " 41  TradeInSerialNumber          3446 non-null   object \n",
      " 42  TradeInQuantity              4709 non-null   float64\n",
      " 43  NetTradeValue                4709 non-null   object \n",
      " 44  TradeInManufacturer          4706 non-null   object \n",
      " 45  TradeInCategoryDesc          2374 non-null   object \n",
      " 46  TradeInSubCategoryDesc       1578 non-null   object \n",
      " 47  TradeInManufactureYear       3782 non-null   float64\n",
      " 48  TradeInModel                 4709 non-null   object \n",
      " 49  PONumber                     26845 non-null  object \n",
      " 50  FinanceIncentive             37678 non-null  float64\n",
      " 51  FinanceIncentiveDescription  7521 non-null   float64\n",
      " 52  TradeDifference              32552 non-null  object \n",
      " 53  Event                        38124 non-null  object \n",
      " 54  POStatus                     33261 non-null  object \n",
      " 55  SignedDate                   12153 non-null  object \n",
      " 56  Reason.For.Lost.Sales        1336 non-null   object \n",
      " 57  Sales.Lost.To                0 non-null      float64\n",
      " 58  Competitor.model             0 non-null      float64\n",
      " 59  Comments.on.Lost.Deal        6035 non-null   object \n",
      " 60  Net.Cost                     40212 non-null  object \n",
      " 61  WorkFlow.Status              34177 non-null  object \n",
      " 62  Type                         0 non-null      float64\n",
      " 63  Unnamed..62                  46 non-null     object \n",
      " 64  Base.Implement               38531 non-null  object \n",
      " 65  Unnamed..0                   40258 non-null  int64  \n",
      " 66  CustomerName                 40258 non-null  object \n",
      " 67  Location                     40258 non-null  object \n",
      " 68  Serial.No                    38667 non-null  object \n",
      " 69  Model                        40258 non-null  object \n",
      " 70  Make                         40258 non-null  object \n",
      " 71  Description                  40227 non-null  object \n",
      " 72  New.Used                     40258 non-null  object \n",
      " 73  Sale.Date                    40258 non-null  object \n",
      " 74  Date.Rcvd                    40220 non-null  object \n",
      " 75  Sold.To                      39823 non-null  object \n",
      " 76  Total.Sales                  40258 non-null  object \n",
      " 77  Total.Cost                   40258 non-null  object \n",
      " 78  Gross.Margin                 40258 non-null  object \n",
      " 79  Gross.Margin..               39860 non-null  object \n",
      " 80  salesperson_name             40258 non-null  object \n",
      " 81  Salesperson.Code             40258 non-null  object \n",
      " 82  Acquired.By                  8260 non-null   object \n",
      " 83  DaysOld                      40220 non-null  float64\n",
      " 84  category                     39991 non-null  object \n",
      " 85  sold_to_code                 39837 non-null  object \n",
      "dtypes: float64(12), int64(6), object(68)\n",
      "memory usage: 26.7+ MB\n"
     ]
    }
   ],
   "source": [
    "#the one-to-one correspondence between stockNumber and Category\n",
    "stock_category = stock_joint.drop_duplicates('StockNumber',keep = 'last')\n",
    "stock_category.info()\n",
    "\n",
    "#Connect Sales and Stock_category to get the Category information. The data volume of the new dataframe after the left connection should be consistent with the original Sales table, 55377 entries.\n",
    "sales_with_category = pd.merge(sales,stock_category,left_on='Stock #',right_on='StockNumber',how = 'left')\n",
    "sales_with_category.info()\n",
    "sales_with_category.to_csv(\"sales_with_category.csv\")"
   ]
  },
  {
   "cell_type": "code",
   "execution_count": null,
   "id": "fb776324",
   "metadata": {},
   "outputs": [],
   "source": []
  }
 ],
 "metadata": {
  "interpreter": {
   "hash": "aee8b7b246df8f9039afb4144a1f6fd8d2ca17a180786b69acc140d282b71a49"
  },
  "kernelspec": {
   "display_name": "Python 3",
   "language": "python",
   "name": "python3"
  },
  "language_info": {
   "codemirror_mode": {
    "name": "ipython",
    "version": 3
   },
   "file_extension": ".py",
   "mimetype": "text/x-python",
   "name": "python",
   "nbconvert_exporter": "python",
   "pygments_lexer": "ipython3",
   "version": "3.8.10"
  },
  "toc": {
   "base_numbering": 1,
   "nav_menu": {},
   "number_sections": true,
   "sideBar": true,
   "skip_h1_title": false,
   "title_cell": "Table of Contents",
   "title_sidebar": "Contents",
   "toc_cell": false,
   "toc_position": {},
   "toc_section_display": true,
   "toc_window_display": false
  }
 },
 "nbformat": 4,
 "nbformat_minor": 5
}
