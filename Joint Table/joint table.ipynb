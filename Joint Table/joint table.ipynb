{
 "cells": [
  {
   "cell_type": "code",
   "execution_count": 57,
   "metadata": {},
   "outputs": [],
   "source": [
    "import joblib\n",
    "import matplotlib.pyplot as plt\n",
    "import numpy as np\n",
    "import os\n",
    "import pandas as pd\n",
    "import pickle\n",
    "#import seaborn as sns\n",
    "from IPython.core.pylabtools import figsize\n",
    "from IPython.display import IFrame\n",
    "from pandas.api.types import CategoricalDtype\n",
    "from scipy.sparse import csr_matrix\n",
    "from sklearn import datasets\n",
    "from sklearn import metrics\n",
    "from sklearn import neighbors                           \n",
    "from sklearn import tree, linear_model,neighbors   \n",
    "from sklearn.base import BaseEstimator, TransformerMixin\n",
    "from sklearn.compose import ColumnTransformer\n",
    "from sklearn.datasets import load_boston\n",
    "from sklearn.discriminant_analysis import LinearDiscriminantAnalysis \n",
    "from sklearn.ensemble import AdaBoostClassifier\n",
    "from sklearn.ensemble import RandomForestRegressor\n",
    "from sklearn.ensemble import RandomForestClassifier\n",
    "from sklearn.impute import MissingIndicator\n",
    "from sklearn.impute import SimpleImputer\n",
    "from sklearn.linear_model import Lasso \n",
    "from sklearn.linear_model import LinearRegression\n",
    "from sklearn.linear_model import Ridge \n",
    "from sklearn.linear_model import SGDClassifier\n",
    "from sklearn.metrics import*\n",
    "from sklearn.metrics import accuracy_score\n",
    "from sklearn.metrics import confusion_matrix\n",
    "from sklearn.metrics import recall_score\n",
    "from sklearn.metrics import roc_curve, auc\n",
    "from sklearn.metrics import mean_squared_error\n",
    "from sklearn.model_selection import cross_val_score\n",
    "from sklearn.model_selection import cross_validate\n",
    "from sklearn.model_selection import GridSearchCV\n",
    "from sklearn.model_selection import StratifiedKFold\n",
    "from sklearn.model_selection import train_test_split\n",
    "from sklearn.naive_bayes import BernoulliNB\n",
    "from sklearn.neural_network import MLPRegressor\n",
    "from sklearn.pipeline import FeatureUnion\n",
    "from sklearn.pipeline import Pipeline\n",
    "from sklearn.preprocessing import MinMaxScaler\n",
    "from sklearn.preprocessing import OneHotEncoder\n",
    "from sklearn.preprocessing import StandardScaler\n",
    "from sklearn.svm import LinearSVR\n",
    "from sklearn.svm import SVR\n",
    "from sklearn.tree import DecisionTreeRegressor"
   ]
  },
  {
   "cell_type": "code",
   "execution_count": 58,
   "metadata": {},
   "outputs": [
    {
     "name": "stderr",
     "output_type": "stream",
     "text": [
      "/Library/Frameworks/Python.framework/Versions/3.9/lib/python3.9/site-packages/IPython/core/interactiveshell.py:3172: DtypeWarning: Columns (1,15,36,49,52,56,57,58,59,61,63) have mixed types.Specify dtype option on import or set low_memory=False.\n",
      "  has_raised = await self.run_ast_nodes(code_ast.body, cell_name,\n"
     ]
    }
   ],
   "source": [
    "# read the quote table\n",
    "jdquote1 = pd.read_csv('jdquote1.csv')"
   ]
  },
  {
   "cell_type": "code",
   "execution_count": 59,
   "metadata": {},
   "outputs": [],
   "source": [
    "# read the sales table\n",
    "sales = pd.read_csv('Daily Wholegood Sales Master.csv')"
   ]
  },
  {
   "cell_type": "code",
   "execution_count": 71,
   "metadata": {},
   "outputs": [
    {
     "name": "stderr",
     "output_type": "stream",
     "text": [
      "/Library/Frameworks/Python.framework/Versions/3.9/lib/python3.9/site-packages/IPython/core/interactiveshell.py:3172: DtypeWarning: Columns (1,15,49,52,56,59,61,63) have mixed types.Specify dtype option on import or set low_memory=False.\n",
      "  has_raised = await self.run_ast_nodes(code_ast.body, cell_name,\n"
     ]
    }
   ],
   "source": [
    "# read the joint table on stocknumber of jdquote1 and sales table\n",
    "stock_join = pd.read_csv('Stock-joint-table.csv')"
   ]
  },
  {
   "cell_type": "code",
   "execution_count": 72,
   "metadata": {},
   "outputs": [
    {
     "data": {
      "text/plain": [
       "Index(['X', 'QuoteID', 'NameOfQuote', 'QuoteType', 'CreationDate',\n",
       "       'ExpirationDate', 'CurrentQuoteStatus', 'CreatedLogon',\n",
       "       'LastModifiedLogon', 'SalesPersonName', 'CompanyName',\n",
       "       'ContactLastName', 'ContactFirstName', 'City', 'StateProvince',\n",
       "       'PostalZip', 'Phone', 'Customer.Email', 'DealerID', 'DealerName',\n",
       "       'DealerCity', 'DealerState', 'EquipmentCode', 'EquipmentDescription',\n",
       "       'EquipmentType', 'EquipmentSerialNumber', 'EquipmentQuantity',\n",
       "       'EquipmentAmount', 'DeereMDP', 'CPA.CA.Surcharge.', 'SellingPrice',\n",
       "       'EquipmentManufacturer', 'EquipmentCategoryDesc',\n",
       "       'EquipmentSubCategoryDesc', 'EquipmentManufactureYear',\n",
       "       'EquipmentModel', 'StockNumber', 'IncentiveProgramNumber',\n",
       "       'EquipmentStatus', 'TradeInCode', 'TradeInDescription',\n",
       "       'TradeInSerialNumber', 'TradeInQuantity', 'NetTradeValue',\n",
       "       'TradeInManufacturer', 'TradeInCategoryDesc', 'TradeInSubCategoryDesc',\n",
       "       'TradeInManufactureYear', 'TradeInModel', 'PONumber',\n",
       "       'FinanceIncentive', 'FinanceIncentiveDescription', 'TradeDifference',\n",
       "       'Event', 'POStatus', 'SignedDate', 'Reason.For.Lost.Sales',\n",
       "       'Sales.Lost.To', 'Competitor.model', 'Comments.on.Lost.Deal',\n",
       "       'Net.Cost', 'WorkFlow.Status', 'Type', 'Unnamed..62', 'Base.Implement',\n",
       "       'Unnamed..0', 'CustomerName', 'Location', 'Serial.No', 'Model', 'Make',\n",
       "       'Description', 'New.Used', 'Sale.Date', 'Date.Rcvd', 'Sold.To',\n",
       "       'Total.Sales', 'Total.Cost', 'Gross.Margin', 'Gross.Margin..',\n",
       "       'salesperson_name', 'Salesperson.Code', 'Acquired.By', 'DaysOld',\n",
       "       'category', 'sold_to_code'],\n",
       "      dtype='object')"
      ]
     },
     "execution_count": 72,
     "metadata": {},
     "output_type": "execute_result"
    }
   ],
   "source": [
    "stock_join.columns"
   ]
  },
  {
   "cell_type": "code",
   "execution_count": 73,
   "metadata": {},
   "outputs": [
    {
     "name": "stderr",
     "output_type": "stream",
     "text": [
      "/Library/Frameworks/Python.framework/Versions/3.9/lib/python3.9/site-packages/fuzzywuzzy/fuzz.py:11: UserWarning: Using slow pure-python SequenceMatcher. Install python-Levenshtein to remove this warning\n",
      "  warnings.warn('Using slow pure-python SequenceMatcher. Install python-Levenshtein to remove this warning')\n"
     ]
    }
   ],
   "source": [
    "from fuzzywuzzy import fuzz\n",
    "from fuzzywuzzy import process"
   ]
  },
  {
   "cell_type": "code",
   "execution_count": 74,
   "metadata": {},
   "outputs": [],
   "source": [
    "#stock_join['StockNumber'][1]\n",
    "data1 = []\n"
   ]
  },
  {
   "cell_type": "code",
   "execution_count": 75,
   "metadata": {},
   "outputs": [],
   "source": [
    "# get the unmatched records' indexes of both customername columns by filtering out fuzzywuzzy score less than 80%\n",
    "for i in range(0,len(stock_join['CustomerName'])):\n",
    "    if (fuzz.token_set_ratio(stock_join['CustomerName'][i],stock_join['Sold.To'][i]) < 80):\n",
    "        data1.append(i)\n"
   ]
  },
  {
   "cell_type": "code",
   "execution_count": 76,
   "metadata": {},
   "outputs": [],
   "source": [
    "# drop the rows of joint table that fuzzywuzzy score less than 80%\n",
    "data2 = stock_join\n",
    "data2 = data2.drop(index = data1)\n"
   ]
  },
  {
   "cell_type": "code",
   "execution_count": 77,
   "metadata": {},
   "outputs": [],
   "source": [
    "# reset the index\n",
    "data2 = data2.reset_index()"
   ]
  },
  {
   "cell_type": "code",
   "execution_count": 79,
   "metadata": {},
   "outputs": [],
   "source": [
    "data2.to_csv('joint_stock_name.csv')"
   ]
  }
 ],
 "metadata": {
  "interpreter": {
   "hash": "aee8b7b246df8f9039afb4144a1f6fd8d2ca17a180786b69acc140d282b71a49"
  },
  "kernelspec": {
   "display_name": "Python 3",
   "language": "python",
   "name": "python3"
  },
  "language_info": {
   "codemirror_mode": {
    "name": "ipython",
    "version": 3
   },
   "file_extension": ".py",
   "mimetype": "text/x-python",
   "name": "python",
   "nbconvert_exporter": "python",
   "pygments_lexer": "ipython3",
   "version": "3.8.5"
  },
  "toc": {
   "base_numbering": 1,
   "nav_menu": {},
   "number_sections": true,
   "sideBar": true,
   "skip_h1_title": false,
   "title_cell": "Table of Contents",
   "title_sidebar": "Contents",
   "toc_cell": false,
   "toc_position": {},
   "toc_section_display": true,
   "toc_window_display": false
  }
 },
 "nbformat": 4,
 "nbformat_minor": 5
}
